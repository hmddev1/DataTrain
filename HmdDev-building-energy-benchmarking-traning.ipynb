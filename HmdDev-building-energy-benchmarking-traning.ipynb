{
 "cells": [
  {
   "cell_type": "code",
   "execution_count": 3,
   "id": "c85dfc16",
   "metadata": {},
   "outputs": [],
   "source": [
    "import pandas as pd    #1"
   ]
  },
  {
   "cell_type": "markdown",
   "id": "63644484",
   "metadata": {},
   "source": [
    "###### Point: For read dataset, the csv file should be in the same directory with code"
   ]
  },
  {
   "cell_type": "code",
   "execution_count": 4,
   "id": "fb33a36a",
   "metadata": {},
   "outputs": [],
   "source": [
    "x = pd.read_csv(\"2015-building-energy-benchmarking.csv\")"
   ]
  },
  {
   "cell_type": "code",
   "execution_count": 5,
   "id": "95da4d13",
   "metadata": {},
   "outputs": [
    {
     "data": {
      "text/html": [
       "<div>\n",
       "<style scoped>\n",
       "    .dataframe tbody tr th:only-of-type {\n",
       "        vertical-align: middle;\n",
       "    }\n",
       "\n",
       "    .dataframe tbody tr th {\n",
       "        vertical-align: top;\n",
       "    }\n",
       "\n",
       "    .dataframe thead th {\n",
       "        text-align: right;\n",
       "    }\n",
       "</style>\n",
       "<table border=\"1\" class=\"dataframe\">\n",
       "  <thead>\n",
       "    <tr style=\"text-align: right;\">\n",
       "      <th></th>\n",
       "      <th>OSEBuildingID</th>\n",
       "      <th>DataYear</th>\n",
       "      <th>BuildingType</th>\n",
       "      <th>PrimaryPropertyType</th>\n",
       "      <th>PropertyName</th>\n",
       "      <th>TaxParcelIdentificationNumber</th>\n",
       "      <th>Location</th>\n",
       "      <th>CouncilDistrictCode</th>\n",
       "      <th>Neighborhood</th>\n",
       "      <th>YearBuilt</th>\n",
       "      <th>...</th>\n",
       "      <th>GHGEmissionsIntensity(kgCO2e/ft2)</th>\n",
       "      <th>DefaultData</th>\n",
       "      <th>Comment</th>\n",
       "      <th>ComplianceStatus</th>\n",
       "      <th>Outlier</th>\n",
       "      <th>2010 Census Tracts</th>\n",
       "      <th>Seattle Police Department Micro Community Policing Plan Areas</th>\n",
       "      <th>City Council Districts</th>\n",
       "      <th>SPD Beats</th>\n",
       "      <th>Zip Codes</th>\n",
       "    </tr>\n",
       "  </thead>\n",
       "  <tbody>\n",
       "    <tr>\n",
       "      <th>0</th>\n",
       "      <td>1</td>\n",
       "      <td>2015</td>\n",
       "      <td>NonResidential</td>\n",
       "      <td>Hotel</td>\n",
       "      <td>MAYFLOWER PARK HOTEL</td>\n",
       "      <td>659000030</td>\n",
       "      <td>{'latitude': '47.61219025', 'longitude': '-122...</td>\n",
       "      <td>7</td>\n",
       "      <td>DOWNTOWN</td>\n",
       "      <td>1927</td>\n",
       "      <td>...</td>\n",
       "      <td>2.64</td>\n",
       "      <td>No</td>\n",
       "      <td>NaN</td>\n",
       "      <td>Compliant</td>\n",
       "      <td>NaN</td>\n",
       "      <td>NaN</td>\n",
       "      <td>14.0</td>\n",
       "      <td>NaN</td>\n",
       "      <td>31.0</td>\n",
       "      <td>18081</td>\n",
       "    </tr>\n",
       "    <tr>\n",
       "      <th>1</th>\n",
       "      <td>2</td>\n",
       "      <td>2015</td>\n",
       "      <td>NonResidential</td>\n",
       "      <td>Hotel</td>\n",
       "      <td>PARAMOUNT HOTEL</td>\n",
       "      <td>659000220</td>\n",
       "      <td>{'latitude': '47.61310583', 'longitude': '-122...</td>\n",
       "      <td>7</td>\n",
       "      <td>DOWNTOWN</td>\n",
       "      <td>1996</td>\n",
       "      <td>...</td>\n",
       "      <td>2.38</td>\n",
       "      <td>No</td>\n",
       "      <td>NaN</td>\n",
       "      <td>Compliant</td>\n",
       "      <td>NaN</td>\n",
       "      <td>NaN</td>\n",
       "      <td>14.0</td>\n",
       "      <td>NaN</td>\n",
       "      <td>31.0</td>\n",
       "      <td>18081</td>\n",
       "    </tr>\n",
       "  </tbody>\n",
       "</table>\n",
       "<p>2 rows × 47 columns</p>\n",
       "</div>"
      ],
      "text/plain": [
       "   OSEBuildingID  DataYear    BuildingType PrimaryPropertyType  \\\n",
       "0              1      2015  NonResidential               Hotel   \n",
       "1              2      2015  NonResidential               Hotel   \n",
       "\n",
       "           PropertyName TaxParcelIdentificationNumber  \\\n",
       "0  MAYFLOWER PARK HOTEL                     659000030   \n",
       "1       PARAMOUNT HOTEL                     659000220   \n",
       "\n",
       "                                            Location  CouncilDistrictCode  \\\n",
       "0  {'latitude': '47.61219025', 'longitude': '-122...                    7   \n",
       "1  {'latitude': '47.61310583', 'longitude': '-122...                    7   \n",
       "\n",
       "  Neighborhood  YearBuilt  ...  GHGEmissionsIntensity(kgCO2e/ft2)  \\\n",
       "0     DOWNTOWN       1927  ...                               2.64   \n",
       "1     DOWNTOWN       1996  ...                               2.38   \n",
       "\n",
       "   DefaultData  Comment  ComplianceStatus  Outlier 2010 Census Tracts  \\\n",
       "0           No      NaN         Compliant      NaN                NaN   \n",
       "1           No      NaN         Compliant      NaN                NaN   \n",
       "\n",
       "  Seattle Police Department Micro Community Policing Plan Areas  \\\n",
       "0                                               14.0              \n",
       "1                                               14.0              \n",
       "\n",
       "   City Council Districts SPD Beats  Zip Codes  \n",
       "0                     NaN      31.0      18081  \n",
       "1                     NaN      31.0      18081  \n",
       "\n",
       "[2 rows x 47 columns]"
      ]
     },
     "execution_count": 5,
     "metadata": {},
     "output_type": "execute_result"
    }
   ],
   "source": [
    "x.head(2)"
   ]
  },
  {
   "cell_type": "code",
   "execution_count": 6,
   "id": "67ec94a6",
   "metadata": {},
   "outputs": [
    {
     "data": {
      "text/html": [
       "<div>\n",
       "<style scoped>\n",
       "    .dataframe tbody tr th:only-of-type {\n",
       "        vertical-align: middle;\n",
       "    }\n",
       "\n",
       "    .dataframe tbody tr th {\n",
       "        vertical-align: top;\n",
       "    }\n",
       "\n",
       "    .dataframe thead th {\n",
       "        text-align: right;\n",
       "    }\n",
       "</style>\n",
       "<table border=\"1\" class=\"dataframe\">\n",
       "  <thead>\n",
       "    <tr style=\"text-align: right;\">\n",
       "      <th></th>\n",
       "      <th>OSEBuildingID</th>\n",
       "      <th>DataYear</th>\n",
       "      <th>BuildingType</th>\n",
       "      <th>PrimaryPropertyType</th>\n",
       "      <th>PropertyName</th>\n",
       "      <th>TaxParcelIdentificationNumber</th>\n",
       "      <th>Location</th>\n",
       "      <th>CouncilDistrictCode</th>\n",
       "      <th>Neighborhood</th>\n",
       "      <th>YearBuilt</th>\n",
       "      <th>...</th>\n",
       "      <th>GHGEmissionsIntensity(kgCO2e/ft2)</th>\n",
       "      <th>DefaultData</th>\n",
       "      <th>Comment</th>\n",
       "      <th>ComplianceStatus</th>\n",
       "      <th>Outlier</th>\n",
       "      <th>2010 Census Tracts</th>\n",
       "      <th>Seattle Police Department Micro Community Policing Plan Areas</th>\n",
       "      <th>City Council Districts</th>\n",
       "      <th>SPD Beats</th>\n",
       "      <th>Zip Codes</th>\n",
       "    </tr>\n",
       "  </thead>\n",
       "  <tbody>\n",
       "    <tr>\n",
       "      <th>3338</th>\n",
       "      <td>50058</td>\n",
       "      <td>2015</td>\n",
       "      <td>Multifamily LR (1-4)</td>\n",
       "      <td>Low-Rise Multifamily</td>\n",
       "      <td>WEDGEWOOD ESTATES BLDG A</td>\n",
       "      <td>6392001040</td>\n",
       "      <td>{'latitude': '47.68396954', 'longitude': '-122...</td>\n",
       "      <td>4</td>\n",
       "      <td>NORTHEAST</td>\n",
       "      <td>1981</td>\n",
       "      <td>...</td>\n",
       "      <td>0.04</td>\n",
       "      <td>No</td>\n",
       "      <td>NaN</td>\n",
       "      <td>Compliant</td>\n",
       "      <td>NaN</td>\n",
       "      <td>NaN</td>\n",
       "      <td>55.0</td>\n",
       "      <td>NaN</td>\n",
       "      <td>48.0</td>\n",
       "      <td>18792</td>\n",
       "    </tr>\n",
       "    <tr>\n",
       "      <th>3339</th>\n",
       "      <td>50059</td>\n",
       "      <td>2015</td>\n",
       "      <td>Multifamily LR (1-4)</td>\n",
       "      <td>Low-Rise Multifamily</td>\n",
       "      <td>WEDGEWOOD ESTATES BLDG B</td>\n",
       "      <td>6392001040</td>\n",
       "      <td>{'latitude': '47.68396954', 'longitude': '-122...</td>\n",
       "      <td>4</td>\n",
       "      <td>NORTHEAST</td>\n",
       "      <td>1981</td>\n",
       "      <td>...</td>\n",
       "      <td>0.05</td>\n",
       "      <td>No</td>\n",
       "      <td>NaN</td>\n",
       "      <td>Compliant</td>\n",
       "      <td>NaN</td>\n",
       "      <td>NaN</td>\n",
       "      <td>55.0</td>\n",
       "      <td>NaN</td>\n",
       "      <td>48.0</td>\n",
       "      <td>18792</td>\n",
       "    </tr>\n",
       "  </tbody>\n",
       "</table>\n",
       "<p>2 rows × 47 columns</p>\n",
       "</div>"
      ],
      "text/plain": [
       "      OSEBuildingID  DataYear          BuildingType   PrimaryPropertyType  \\\n",
       "3338          50058      2015  Multifamily LR (1-4)  Low-Rise Multifamily   \n",
       "3339          50059      2015  Multifamily LR (1-4)  Low-Rise Multifamily   \n",
       "\n",
       "                  PropertyName TaxParcelIdentificationNumber  \\\n",
       "3338  WEDGEWOOD ESTATES BLDG A                    6392001040   \n",
       "3339  WEDGEWOOD ESTATES BLDG B                    6392001040   \n",
       "\n",
       "                                               Location  CouncilDistrictCode  \\\n",
       "3338  {'latitude': '47.68396954', 'longitude': '-122...                    4   \n",
       "3339  {'latitude': '47.68396954', 'longitude': '-122...                    4   \n",
       "\n",
       "     Neighborhood  YearBuilt  ...  GHGEmissionsIntensity(kgCO2e/ft2)  \\\n",
       "3338    NORTHEAST       1981  ...                               0.04   \n",
       "3339    NORTHEAST       1981  ...                               0.05   \n",
       "\n",
       "      DefaultData  Comment  ComplianceStatus  Outlier 2010 Census Tracts  \\\n",
       "3338           No      NaN         Compliant      NaN                NaN   \n",
       "3339           No      NaN         Compliant      NaN                NaN   \n",
       "\n",
       "     Seattle Police Department Micro Community Policing Plan Areas  \\\n",
       "3338                                               55.0              \n",
       "3339                                               55.0              \n",
       "\n",
       "      City Council Districts SPD Beats  Zip Codes  \n",
       "3338                     NaN      48.0      18792  \n",
       "3339                     NaN      48.0      18792  \n",
       "\n",
       "[2 rows x 47 columns]"
      ]
     },
     "execution_count": 6,
     "metadata": {},
     "output_type": "execute_result"
    }
   ],
   "source": [
    "x.tail(2)"
   ]
  },
  {
   "cell_type": "code",
   "execution_count": 12,
   "id": "1c47596d",
   "metadata": {},
   "outputs": [
    {
     "name": "stdout",
     "output_type": "stream",
     "text": [
      "<class 'pandas.core.frame.DataFrame'>\n",
      "RangeIndex: 3340 entries, 0 to 3339\n",
      "Data columns (total 47 columns):\n",
      " #   Column                                                         Non-Null Count  Dtype  \n",
      "---  ------                                                         --------------  -----  \n",
      " 0   OSEBuildingID                                                  3340 non-null   int64  \n",
      " 1   DataYear                                                       3340 non-null   int64  \n",
      " 2   BuildingType                                                   3340 non-null   object \n",
      " 3   PrimaryPropertyType                                            3340 non-null   object \n",
      " 4   PropertyName                                                   3340 non-null   object \n",
      " 5   TaxParcelIdentificationNumber                                  3338 non-null   object \n",
      " 6   Location                                                       3340 non-null   object \n",
      " 7   CouncilDistrictCode                                            3340 non-null   int64  \n",
      " 8   Neighborhood                                                   3340 non-null   object \n",
      " 9   YearBuilt                                                      3340 non-null   int64  \n",
      " 10  NumberofBuildings                                              3340 non-null   int64  \n",
      " 11  NumberofFloors                                                 3332 non-null   float64\n",
      " 12  PropertyGFATotal                                               3340 non-null   int64  \n",
      " 13  PropertyGFAParking                                             3340 non-null   int64  \n",
      " 14  PropertyGFABuilding(s)                                         3340 non-null   int64  \n",
      " 15  ListOfAllPropertyUseTypes                                      3213 non-null   object \n",
      " 16  LargestPropertyUseType                                         3204 non-null   object \n",
      " 17  LargestPropertyUseTypeGFA                                      3204 non-null   float64\n",
      " 18  SecondLargestPropertyUseType                                   1559 non-null   object \n",
      " 19  SecondLargestPropertyUseTypeGFA                                1559 non-null   float64\n",
      " 20  ThirdLargestPropertyUseType                                    560 non-null    object \n",
      " 21  ThirdLargestPropertyUseTypeGFA                                 560 non-null    float64\n",
      " 22  YearsENERGYSTARCertified                                       110 non-null    object \n",
      " 23  ENERGYSTARScore                                                2560 non-null   float64\n",
      " 24  SiteEUI(kBtu/sf)                                               3330 non-null   float64\n",
      " 25  SiteEUIWN(kBtu/sf)                                             3330 non-null   float64\n",
      " 26  SourceEUI(kBtu/sf)                                             3330 non-null   float64\n",
      " 27  SourceEUIWN(kBtu/sf)                                           3330 non-null   float64\n",
      " 28  SiteEnergyUse(kBtu)                                            3330 non-null   float64\n",
      " 29  SiteEnergyUseWN(kBtu)                                          3330 non-null   float64\n",
      " 30  SteamUse(kBtu)                                                 3330 non-null   float64\n",
      " 31  Electricity(kWh)                                               3330 non-null   float64\n",
      " 32  Electricity(kBtu)                                              3330 non-null   float64\n",
      " 33  NaturalGas(therms)                                             3330 non-null   float64\n",
      " 34  NaturalGas(kBtu)                                               3330 non-null   float64\n",
      " 35  OtherFuelUse(kBtu)                                             3330 non-null   float64\n",
      " 36  GHGEmissions(MetricTonsCO2e)                                   3330 non-null   float64\n",
      " 37  GHGEmissionsIntensity(kgCO2e/ft2)                              3330 non-null   float64\n",
      " 38  DefaultData                                                    3339 non-null   object \n",
      " 39  Comment                                                        13 non-null     object \n",
      " 40  ComplianceStatus                                               3340 non-null   object \n",
      " 41  Outlier                                                        84 non-null     object \n",
      " 42  2010 Census Tracts                                             224 non-null    float64\n",
      " 43  Seattle Police Department Micro Community Policing Plan Areas  3338 non-null   float64\n",
      " 44  City Council Districts                                         213 non-null    float64\n",
      " 45  SPD Beats                                                      3338 non-null   float64\n",
      " 46  Zip Codes                                                      3340 non-null   int64  \n",
      "dtypes: float64(23), int64(9), object(15)\n",
      "memory usage: 1.2+ MB\n"
     ]
    }
   ],
   "source": [
    "x.info()"
   ]
  },
  {
   "cell_type": "code",
   "execution_count": 7,
   "id": "fb483719",
   "metadata": {},
   "outputs": [
    {
     "data": {
      "text/html": [
       "<div>\n",
       "<style scoped>\n",
       "    .dataframe tbody tr th:only-of-type {\n",
       "        vertical-align: middle;\n",
       "    }\n",
       "\n",
       "    .dataframe tbody tr th {\n",
       "        vertical-align: top;\n",
       "    }\n",
       "\n",
       "    .dataframe thead th {\n",
       "        text-align: right;\n",
       "    }\n",
       "</style>\n",
       "<table border=\"1\" class=\"dataframe\">\n",
       "  <thead>\n",
       "    <tr style=\"text-align: right;\">\n",
       "      <th></th>\n",
       "      <th>OSEBuildingID</th>\n",
       "      <th>DataYear</th>\n",
       "      <th>CouncilDistrictCode</th>\n",
       "      <th>YearBuilt</th>\n",
       "      <th>NumberofBuildings</th>\n",
       "      <th>NumberofFloors</th>\n",
       "      <th>PropertyGFATotal</th>\n",
       "      <th>PropertyGFAParking</th>\n",
       "      <th>PropertyGFABuilding(s)</th>\n",
       "      <th>LargestPropertyUseTypeGFA</th>\n",
       "      <th>...</th>\n",
       "      <th>NaturalGas(therms)</th>\n",
       "      <th>NaturalGas(kBtu)</th>\n",
       "      <th>OtherFuelUse(kBtu)</th>\n",
       "      <th>GHGEmissions(MetricTonsCO2e)</th>\n",
       "      <th>GHGEmissionsIntensity(kgCO2e/ft2)</th>\n",
       "      <th>2010 Census Tracts</th>\n",
       "      <th>Seattle Police Department Micro Community Policing Plan Areas</th>\n",
       "      <th>City Council Districts</th>\n",
       "      <th>SPD Beats</th>\n",
       "      <th>Zip Codes</th>\n",
       "    </tr>\n",
       "  </thead>\n",
       "  <tbody>\n",
       "    <tr>\n",
       "      <th>count</th>\n",
       "      <td>3340.000000</td>\n",
       "      <td>3340.0</td>\n",
       "      <td>3340.000000</td>\n",
       "      <td>3340.000000</td>\n",
       "      <td>3340.000000</td>\n",
       "      <td>3332.000000</td>\n",
       "      <td>3.340000e+03</td>\n",
       "      <td>3340.000000</td>\n",
       "      <td>3.340000e+03</td>\n",
       "      <td>3.204000e+03</td>\n",
       "      <td>...</td>\n",
       "      <td>3.330000e+03</td>\n",
       "      <td>3.330000e+03</td>\n",
       "      <td>3.330000e+03</td>\n",
       "      <td>3330.000000</td>\n",
       "      <td>3330.000000</td>\n",
       "      <td>224.000000</td>\n",
       "      <td>3338.000000</td>\n",
       "      <td>213.000000</td>\n",
       "      <td>3338.000000</td>\n",
       "      <td>3340.000000</td>\n",
       "    </tr>\n",
       "    <tr>\n",
       "      <th>mean</th>\n",
       "      <td>20522.168263</td>\n",
       "      <td>2015.0</td>\n",
       "      <td>4.450898</td>\n",
       "      <td>1967.624850</td>\n",
       "      <td>1.035629</td>\n",
       "      <td>4.682173</td>\n",
       "      <td>9.077289e+04</td>\n",
       "      <td>11054.032335</td>\n",
       "      <td>7.971886e+04</td>\n",
       "      <td>7.488154e+04</td>\n",
       "      <td>...</td>\n",
       "      <td>1.253304e+04</td>\n",
       "      <td>1.253304e+06</td>\n",
       "      <td>7.142301e+03</td>\n",
       "      <td>110.094102</td>\n",
       "      <td>0.985339</td>\n",
       "      <td>123.062500</td>\n",
       "      <td>32.380168</td>\n",
       "      <td>1.347418</td>\n",
       "      <td>24.825644</td>\n",
       "      <td>18786.680240</td>\n",
       "    </tr>\n",
       "    <tr>\n",
       "      <th>std</th>\n",
       "      <td>11511.515874</td>\n",
       "      <td>0.0</td>\n",
       "      <td>2.127203</td>\n",
       "      <td>32.949847</td>\n",
       "      <td>0.784463</td>\n",
       "      <td>5.458460</td>\n",
       "      <td>1.493058e+05</td>\n",
       "      <td>35296.330507</td>\n",
       "      <td>1.292314e+05</td>\n",
       "      <td>1.236249e+05</td>\n",
       "      <td>...</td>\n",
       "      <td>4.415142e+04</td>\n",
       "      <td>4.415142e+06</td>\n",
       "      <td>1.962790e+05</td>\n",
       "      <td>409.450179</td>\n",
       "      <td>1.637172</td>\n",
       "      <td>5.812128</td>\n",
       "      <td>19.907567</td>\n",
       "      <td>0.477272</td>\n",
       "      <td>15.006287</td>\n",
       "      <td>588.604192</td>\n",
       "    </tr>\n",
       "    <tr>\n",
       "      <th>min</th>\n",
       "      <td>1.000000</td>\n",
       "      <td>2015.0</td>\n",
       "      <td>1.000000</td>\n",
       "      <td>1900.000000</td>\n",
       "      <td>1.000000</td>\n",
       "      <td>0.000000</td>\n",
       "      <td>2.000000e+04</td>\n",
       "      <td>-3.000000</td>\n",
       "      <td>-5.055000e+04</td>\n",
       "      <td>5.872000e+03</td>\n",
       "      <td>...</td>\n",
       "      <td>0.000000e+00</td>\n",
       "      <td>0.000000e+00</td>\n",
       "      <td>0.000000e+00</td>\n",
       "      <td>0.000000</td>\n",
       "      <td>0.000000</td>\n",
       "      <td>116.000000</td>\n",
       "      <td>1.000000</td>\n",
       "      <td>1.000000</td>\n",
       "      <td>1.000000</td>\n",
       "      <td>17916.000000</td>\n",
       "    </tr>\n",
       "    <tr>\n",
       "      <th>25%</th>\n",
       "      <td>19921.750000</td>\n",
       "      <td>2015.0</td>\n",
       "      <td>3.000000</td>\n",
       "      <td>1947.000000</td>\n",
       "      <td>1.000000</td>\n",
       "      <td>2.000000</td>\n",
       "      <td>2.848700e+04</td>\n",
       "      <td>0.000000</td>\n",
       "      <td>2.668300e+04</td>\n",
       "      <td>2.500000e+04</td>\n",
       "      <td>...</td>\n",
       "      <td>0.000000e+00</td>\n",
       "      <td>0.000000e+00</td>\n",
       "      <td>0.000000e+00</td>\n",
       "      <td>9.265000</td>\n",
       "      <td>0.080000</td>\n",
       "      <td>117.000000</td>\n",
       "      <td>14.000000</td>\n",
       "      <td>1.000000</td>\n",
       "      <td>10.000000</td>\n",
       "      <td>18379.000000</td>\n",
       "    </tr>\n",
       "    <tr>\n",
       "      <th>50%</th>\n",
       "      <td>22977.000000</td>\n",
       "      <td>2015.0</td>\n",
       "      <td>4.000000</td>\n",
       "      <td>1973.000000</td>\n",
       "      <td>1.000000</td>\n",
       "      <td>4.000000</td>\n",
       "      <td>4.385500e+04</td>\n",
       "      <td>0.000000</td>\n",
       "      <td>4.132600e+04</td>\n",
       "      <td>3.900000e+04</td>\n",
       "      <td>...</td>\n",
       "      <td>2.945500e+03</td>\n",
       "      <td>2.945770e+05</td>\n",
       "      <td>0.000000e+00</td>\n",
       "      <td>32.740000</td>\n",
       "      <td>0.460000</td>\n",
       "      <td>123.000000</td>\n",
       "      <td>33.000000</td>\n",
       "      <td>1.000000</td>\n",
       "      <td>26.000000</td>\n",
       "      <td>18390.000000</td>\n",
       "    </tr>\n",
       "    <tr>\n",
       "      <th>75%</th>\n",
       "      <td>25748.000000</td>\n",
       "      <td>2015.0</td>\n",
       "      <td>7.000000</td>\n",
       "      <td>1996.000000</td>\n",
       "      <td>1.000000</td>\n",
       "      <td>5.000000</td>\n",
       "      <td>8.842800e+04</td>\n",
       "      <td>4304.250000</td>\n",
       "      <td>7.872600e+04</td>\n",
       "      <td>7.206750e+04</td>\n",
       "      <td>...</td>\n",
       "      <td>1.115325e+04</td>\n",
       "      <td>1.115366e+06</td>\n",
       "      <td>0.000000e+00</td>\n",
       "      <td>88.642500</td>\n",
       "      <td>1.180000</td>\n",
       "      <td>125.500000</td>\n",
       "      <td>50.000000</td>\n",
       "      <td>2.000000</td>\n",
       "      <td>38.000000</td>\n",
       "      <td>19576.000000</td>\n",
       "    </tr>\n",
       "    <tr>\n",
       "      <th>max</th>\n",
       "      <td>50059.000000</td>\n",
       "      <td>2015.0</td>\n",
       "      <td>7.000000</td>\n",
       "      <td>2015.000000</td>\n",
       "      <td>39.000000</td>\n",
       "      <td>99.000000</td>\n",
       "      <td>2.200000e+06</td>\n",
       "      <td>512608.000000</td>\n",
       "      <td>2.200000e+06</td>\n",
       "      <td>1.719643e+06</td>\n",
       "      <td>...</td>\n",
       "      <td>1.364484e+06</td>\n",
       "      <td>1.364484e+08</td>\n",
       "      <td>8.269669e+06</td>\n",
       "      <td>11824.890000</td>\n",
       "      <td>31.380000</td>\n",
       "      <td>135.000000</td>\n",
       "      <td>61.000000</td>\n",
       "      <td>2.000000</td>\n",
       "      <td>51.000000</td>\n",
       "      <td>19584.000000</td>\n",
       "    </tr>\n",
       "  </tbody>\n",
       "</table>\n",
       "<p>8 rows × 32 columns</p>\n",
       "</div>"
      ],
      "text/plain": [
       "       OSEBuildingID  DataYear  CouncilDistrictCode    YearBuilt  \\\n",
       "count    3340.000000    3340.0          3340.000000  3340.000000   \n",
       "mean    20522.168263    2015.0             4.450898  1967.624850   \n",
       "std     11511.515874       0.0             2.127203    32.949847   \n",
       "min         1.000000    2015.0             1.000000  1900.000000   \n",
       "25%     19921.750000    2015.0             3.000000  1947.000000   \n",
       "50%     22977.000000    2015.0             4.000000  1973.000000   \n",
       "75%     25748.000000    2015.0             7.000000  1996.000000   \n",
       "max     50059.000000    2015.0             7.000000  2015.000000   \n",
       "\n",
       "       NumberofBuildings  NumberofFloors  PropertyGFATotal  \\\n",
       "count        3340.000000     3332.000000      3.340000e+03   \n",
       "mean            1.035629        4.682173      9.077289e+04   \n",
       "std             0.784463        5.458460      1.493058e+05   \n",
       "min             1.000000        0.000000      2.000000e+04   \n",
       "25%             1.000000        2.000000      2.848700e+04   \n",
       "50%             1.000000        4.000000      4.385500e+04   \n",
       "75%             1.000000        5.000000      8.842800e+04   \n",
       "max            39.000000       99.000000      2.200000e+06   \n",
       "\n",
       "       PropertyGFAParking  PropertyGFABuilding(s)  LargestPropertyUseTypeGFA  \\\n",
       "count         3340.000000            3.340000e+03               3.204000e+03   \n",
       "mean         11054.032335            7.971886e+04               7.488154e+04   \n",
       "std          35296.330507            1.292314e+05               1.236249e+05   \n",
       "min             -3.000000           -5.055000e+04               5.872000e+03   \n",
       "25%              0.000000            2.668300e+04               2.500000e+04   \n",
       "50%              0.000000            4.132600e+04               3.900000e+04   \n",
       "75%           4304.250000            7.872600e+04               7.206750e+04   \n",
       "max         512608.000000            2.200000e+06               1.719643e+06   \n",
       "\n",
       "       ...  NaturalGas(therms)  NaturalGas(kBtu)  OtherFuelUse(kBtu)  \\\n",
       "count  ...        3.330000e+03      3.330000e+03        3.330000e+03   \n",
       "mean   ...        1.253304e+04      1.253304e+06        7.142301e+03   \n",
       "std    ...        4.415142e+04      4.415142e+06        1.962790e+05   \n",
       "min    ...        0.000000e+00      0.000000e+00        0.000000e+00   \n",
       "25%    ...        0.000000e+00      0.000000e+00        0.000000e+00   \n",
       "50%    ...        2.945500e+03      2.945770e+05        0.000000e+00   \n",
       "75%    ...        1.115325e+04      1.115366e+06        0.000000e+00   \n",
       "max    ...        1.364484e+06      1.364484e+08        8.269669e+06   \n",
       "\n",
       "       GHGEmissions(MetricTonsCO2e)  GHGEmissionsIntensity(kgCO2e/ft2)  \\\n",
       "count                   3330.000000                        3330.000000   \n",
       "mean                     110.094102                           0.985339   \n",
       "std                      409.450179                           1.637172   \n",
       "min                        0.000000                           0.000000   \n",
       "25%                        9.265000                           0.080000   \n",
       "50%                       32.740000                           0.460000   \n",
       "75%                       88.642500                           1.180000   \n",
       "max                    11824.890000                          31.380000   \n",
       "\n",
       "       2010 Census Tracts  \\\n",
       "count          224.000000   \n",
       "mean           123.062500   \n",
       "std              5.812128   \n",
       "min            116.000000   \n",
       "25%            117.000000   \n",
       "50%            123.000000   \n",
       "75%            125.500000   \n",
       "max            135.000000   \n",
       "\n",
       "       Seattle Police Department Micro Community Policing Plan Areas  \\\n",
       "count                                        3338.000000               \n",
       "mean                                           32.380168               \n",
       "std                                            19.907567               \n",
       "min                                             1.000000               \n",
       "25%                                            14.000000               \n",
       "50%                                            33.000000               \n",
       "75%                                            50.000000               \n",
       "max                                            61.000000               \n",
       "\n",
       "       City Council Districts    SPD Beats     Zip Codes  \n",
       "count              213.000000  3338.000000   3340.000000  \n",
       "mean                 1.347418    24.825644  18786.680240  \n",
       "std                  0.477272    15.006287    588.604192  \n",
       "min                  1.000000     1.000000  17916.000000  \n",
       "25%                  1.000000    10.000000  18379.000000  \n",
       "50%                  1.000000    26.000000  18390.000000  \n",
       "75%                  2.000000    38.000000  19576.000000  \n",
       "max                  2.000000    51.000000  19584.000000  \n",
       "\n",
       "[8 rows x 32 columns]"
      ]
     },
     "execution_count": 7,
     "metadata": {},
     "output_type": "execute_result"
    }
   ],
   "source": [
    "x.describe()"
   ]
  },
  {
   "cell_type": "code",
   "execution_count": 23,
   "id": "0a0768ae",
   "metadata": {},
   "outputs": [
    {
     "data": {
      "text/plain": [
       "0             NonResidential\n",
       "1             NonResidential\n",
       "2             NonResidential\n",
       "3             NonResidential\n",
       "4             NonResidential\n",
       "                ...         \n",
       "3335    Multifamily LR (1-4)\n",
       "3336    Multifamily MR (5-9)\n",
       "3337    Multifamily HR (10+)\n",
       "3338    Multifamily LR (1-4)\n",
       "3339    Multifamily LR (1-4)\n",
       "Name: BuildingType, Length: 3340, dtype: object"
      ]
     },
     "execution_count": 23,
     "metadata": {},
     "output_type": "execute_result"
    }
   ],
   "source": [
    "x['BuildingType']"
   ]
  },
  {
   "cell_type": "code",
   "execution_count": 25,
   "id": "fe425996",
   "metadata": {},
   "outputs": [
    {
     "data": {
      "text/plain": [
       "0      NonResidential\n",
       "1      NonResidential\n",
       "2      NonResidential\n",
       "3      NonResidential\n",
       "4      NonResidential\n",
       "            ...      \n",
       "119    NonResidential\n",
       "120    NonResidential\n",
       "121    NonResidential\n",
       "122    NonResidential\n",
       "123    NonResidential\n",
       "Name: BuildingType, Length: 124, dtype: object"
      ]
     },
     "execution_count": 25,
     "metadata": {},
     "output_type": "execute_result"
    }
   ],
   "source": [
    "x['BuildingType'][:124]"
   ]
  },
  {
   "cell_type": "markdown",
   "id": "784d27b0",
   "metadata": {},
   "source": [
    "###### How to Make a list from a column in dataset"
   ]
  },
  {
   "cell_type": "code",
   "execution_count": 42,
   "id": "01d3413c",
   "metadata": {},
   "outputs": [],
   "source": [
    "y = list(x['BuildingType'][:124])"
   ]
  },
  {
   "cell_type": "code",
   "execution_count": 43,
   "id": "2695394a",
   "metadata": {},
   "outputs": [],
   "source": [
    "# y.append([1,2,3])"
   ]
  },
  {
   "cell_type": "code",
   "execution_count": 44,
   "id": "09ea965c",
   "metadata": {
    "scrolled": true
   },
   "outputs": [
    {
     "name": "stdout",
     "output_type": "stream",
     "text": [
      "['NonResidential', 'NonResidential', 'NonResidential', 'NonResidential', 'NonResidential', 'Nonresidential COS', 'NonResidential', 'NonResidential', 'NonResidential', 'Multifamily MR (5-9)', 'NonResidential', 'NonResidential', 'NonResidential', 'NonResidential', 'NonResidential', 'Nonresidential COS', 'NonResidential', 'NonResidential', 'NonResidential', 'NonResidential', 'NonResidential', 'NonResidential', 'SPS-District K-12', 'NonResidential', 'NonResidential', 'NonResidential', 'NonResidential', 'NonResidential', 'SPS-District K-12', 'NonResidential', 'SPS-District K-12', 'SPS-District K-12', 'NonResidential', 'NonResidential', 'NonResidential', 'NonResidential', 'SPS-District K-12', 'SPS-District K-12', 'NonResidential', 'NonResidential', 'NonResidential', 'NonResidential', 'NonResidential', 'NonResidential', 'NonResidential', 'NonResidential', 'NonResidential', 'Multifamily LR (1-4)', 'NonResidential', 'NonResidential', 'NonResidential', 'NonResidential', 'NonResidential', 'NonResidential', 'NonResidential', 'NonResidential', 'NonResidential', 'NonResidential', 'NonResidential', 'NonResidential', 'NonResidential', 'NonResidential', 'SPS-District K-12', 'NonResidential', 'NonResidential', 'NonResidential', 'NonResidential', 'NonResidential', 'NonResidential', 'Nonresidential COS', 'Nonresidential COS', 'Nonresidential COS', 'NonResidential', 'Nonresidential COS', 'Nonresidential COS', 'Nonresidential COS', 'NonResidential', 'NonResidential', 'NonResidential', 'NonResidential', 'NonResidential', 'SPS-District K-12', 'NonResidential', 'NonResidential', 'NonResidential', 'SPS-District K-12', 'SPS-District K-12', 'SPS-District K-12', 'SPS-District K-12', 'NonResidential', 'NonResidential', 'NonResidential', 'SPS-District K-12', 'SPS-District K-12', 'NonResidential', 'SPS-District K-12', 'NonResidential', 'Nonresidential COS', 'NonResidential', 'SPS-District K-12', 'Nonresidential COS', 'NonResidential', 'NonResidential', 'SPS-District K-12', 'NonResidential', 'Campus', 'NonResidential', 'Nonresidential COS', 'SPS-District K-12', 'SPS-District K-12', 'SPS-District K-12', 'SPS-District K-12', 'NonResidential', 'NonResidential', 'NonResidential', 'NonResidential', 'SPS-District K-12', 'NonResidential', 'SPS-District K-12', 'NonResidential', 'NonResidential', 'NonResidential', 'NonResidential', 'NonResidential']\n"
     ]
    }
   ],
   "source": [
    "print(y)"
   ]
  },
  {
   "cell_type": "markdown",
   "id": "d705c772",
   "metadata": {},
   "source": [
    "###### Exercise: append \"Hi\" to each elements of lits"
   ]
  },
  {
   "cell_type": "code",
   "execution_count": 51,
   "id": "ecedb7a6",
   "metadata": {
    "scrolled": true
   },
   "outputs": [
    {
     "name": "stdout",
     "output_type": "stream",
     "text": [
      "['Hi NonResidential', 'Hi NonResidential', 'Hi NonResidential', 'Hi NonResidential', 'Hi NonResidential', 'Hi Nonresidential COS', 'Hi NonResidential', 'Hi NonResidential', 'Hi NonResidential', 'Hi Multifamily MR (5-9)', 'Hi NonResidential', 'Hi NonResidential', 'Hi NonResidential', 'Hi NonResidential', 'Hi NonResidential', 'Hi Nonresidential COS', 'Hi NonResidential', 'Hi NonResidential', 'Hi NonResidential', 'Hi NonResidential', 'Hi NonResidential', 'Hi NonResidential', 'Hi SPS-District K-12', 'Hi NonResidential', 'Hi NonResidential', 'Hi NonResidential', 'Hi NonResidential', 'Hi NonResidential', 'Hi SPS-District K-12', 'Hi NonResidential', 'Hi SPS-District K-12', 'Hi SPS-District K-12', 'Hi NonResidential', 'Hi NonResidential', 'Hi NonResidential', 'Hi NonResidential', 'Hi SPS-District K-12', 'Hi SPS-District K-12', 'Hi NonResidential', 'Hi NonResidential', 'Hi NonResidential', 'Hi NonResidential', 'Hi NonResidential', 'Hi NonResidential', 'Hi NonResidential', 'Hi NonResidential', 'Hi NonResidential', 'Hi Multifamily LR (1-4)', 'Hi NonResidential', 'Hi NonResidential', 'Hi NonResidential', 'Hi NonResidential', 'Hi NonResidential', 'Hi NonResidential', 'Hi NonResidential', 'Hi NonResidential', 'Hi NonResidential', 'Hi NonResidential', 'Hi NonResidential', 'Hi NonResidential', 'Hi NonResidential', 'Hi NonResidential', 'Hi SPS-District K-12', 'Hi NonResidential', 'Hi NonResidential', 'Hi NonResidential', 'Hi NonResidential', 'Hi NonResidential', 'Hi NonResidential', 'Hi Nonresidential COS', 'Hi Nonresidential COS', 'Hi Nonresidential COS', 'Hi NonResidential', 'Hi Nonresidential COS', 'Hi Nonresidential COS', 'Hi Nonresidential COS', 'Hi NonResidential', 'Hi NonResidential', 'Hi NonResidential', 'Hi NonResidential', 'Hi NonResidential', 'Hi SPS-District K-12', 'Hi NonResidential', 'Hi NonResidential', 'Hi NonResidential', 'Hi SPS-District K-12', 'Hi SPS-District K-12', 'Hi SPS-District K-12', 'Hi SPS-District K-12', 'Hi NonResidential', 'Hi NonResidential', 'Hi NonResidential', 'Hi SPS-District K-12', 'Hi SPS-District K-12', 'Hi NonResidential', 'Hi SPS-District K-12', 'Hi NonResidential', 'Hi Nonresidential COS', 'Hi NonResidential', 'Hi SPS-District K-12', 'Hi Nonresidential COS', 'Hi NonResidential', 'Hi NonResidential', 'Hi SPS-District K-12', 'Hi NonResidential', 'Hi Campus', 'Hi NonResidential', 'Hi Nonresidential COS', 'Hi SPS-District K-12', 'Hi SPS-District K-12', 'Hi SPS-District K-12', 'Hi SPS-District K-12', 'Hi NonResidential', 'Hi NonResidential', 'Hi NonResidential', 'Hi NonResidential', 'Hi SPS-District K-12', 'Hi NonResidential', 'Hi SPS-District K-12', 'Hi NonResidential', 'Hi NonResidential', 'Hi NonResidential', 'Hi NonResidential', 'Hi NonResidential']\n"
     ]
    }
   ],
   "source": [
    "newlist = [\"Hi\" + \" \" + item for item in y]\n",
    "print(newlist) "
   ]
  },
  {
   "cell_type": "markdown",
   "id": "9e4e411e",
   "metadata": {},
   "source": [
    "###### How to create a series with list"
   ]
  },
  {
   "cell_type": "code",
   "execution_count": 68,
   "id": "5a4fac47",
   "metadata": {},
   "outputs": [
    {
     "name": "stdout",
     "output_type": "stream",
     "text": [
      "a     332\n",
      "b     234\n",
      "d    5345\n",
      "w      45\n",
      "r       4\n",
      "dtype: int64\n"
     ]
    }
   ],
   "source": [
    "labels = ['a','b','d','w','r']\n",
    "lists = [332,234,5345,45,4]\n",
    "new_list = pd.Series(lists,labels)\n",
    "print(new_list)"
   ]
  },
  {
   "cell_type": "markdown",
   "id": "d14138c5",
   "metadata": {},
   "source": [
    "###### How to create a series with dictionary"
   ]
  },
  {
   "cell_type": "code",
   "execution_count": 75,
   "id": "465de393",
   "metadata": {},
   "outputs": [
    {
     "name": "stdout",
     "output_type": "stream",
     "text": [
      "ali      3.0\n",
      "gholi    2.5\n",
      "dtype: float64\n"
     ]
    }
   ],
   "source": [
    "dic = {\"ali\" : 3, \"gholi\": 2.5}\n",
    "newlist = pd.Series(dic)\n",
    "print(newlist)"
   ]
  },
  {
   "cell_type": "markdown",
   "id": "a6c88426",
   "metadata": {},
   "source": [
    "##### How to create data frame with dictionary\n",
    "(You can see the diference between seires and dataframe)"
   ]
  },
  {
   "cell_type": "code",
   "execution_count": 76,
   "id": "69100a34",
   "metadata": {},
   "outputs": [
    {
     "name": "stdout",
     "output_type": "stream",
     "text": [
      "    Name  GPA\n",
      "0    Ali  2.3\n",
      "1  Gholi  2.9\n"
     ]
    }
   ],
   "source": [
    "dic = {\"Name\": [\"Ali\", \"Gholi\"], \"GPA\" : [2.3, 2.9]}\n",
    "newlist = pd.DataFrame(dic)\n",
    "print(newlist)"
   ]
  },
  {
   "cell_type": "markdown",
   "id": "9dbb12cf",
   "metadata": {},
   "source": [
    "##### Quiz: "
   ]
  },
  {
   "cell_type": "code",
   "execution_count": 79,
   "id": "0c3248a8",
   "metadata": {},
   "outputs": [
    {
     "data": {
      "text/html": [
       "<div>\n",
       "<style scoped>\n",
       "    .dataframe tbody tr th:only-of-type {\n",
       "        vertical-align: middle;\n",
       "    }\n",
       "\n",
       "    .dataframe tbody tr th {\n",
       "        vertical-align: top;\n",
       "    }\n",
       "\n",
       "    .dataframe thead th {\n",
       "        text-align: right;\n",
       "    }\n",
       "</style>\n",
       "<table border=\"1\" class=\"dataframe\">\n",
       "  <thead>\n",
       "    <tr style=\"text-align: right;\">\n",
       "      <th></th>\n",
       "      <th>Name</th>\n",
       "      <th>GPA</th>\n",
       "    </tr>\n",
       "  </thead>\n",
       "  <tbody>\n",
       "    <tr>\n",
       "      <th>1</th>\n",
       "      <td>Gholi</td>\n",
       "      <td>2.9</td>\n",
       "    </tr>\n",
       "  </tbody>\n",
       "</table>\n",
       "</div>"
      ],
      "text/plain": [
       "    Name  GPA\n",
       "1  Gholi  2.9"
      ]
     },
     "execution_count": 79,
     "metadata": {},
     "output_type": "execute_result"
    }
   ],
   "source": [
    "newlist[(newlist[\"GPA\"] > 2.4) & (newlist[\"Name\"] != \"Ali\")]"
   ]
  },
  {
   "cell_type": "markdown",
   "id": "31a3917c",
   "metadata": {},
   "source": [
    "## NumPy"
   ]
  },
  {
   "cell_type": "code",
   "execution_count": 83,
   "id": "5205bec5",
   "metadata": {},
   "outputs": [],
   "source": [
    "import numpy as np"
   ]
  },
  {
   "cell_type": "code",
   "execution_count": 142,
   "id": "9d5e7012",
   "metadata": {},
   "outputs": [
    {
     "data": {
      "text/plain": [
       "array([0., 0., 0., 0., 0., 0., 0., 0., 0., 0., 0., 0., 0., 0., 0., 0., 0.,\n",
       "       0., 0., 0.])"
      ]
     },
     "execution_count": 142,
     "metadata": {},
     "output_type": "execute_result"
    }
   ],
   "source": [
    " np.zeros(20)\n"
   ]
  },
  {
   "cell_type": "code",
   "execution_count": 143,
   "id": "ec4fd957",
   "metadata": {},
   "outputs": [
    {
     "data": {
      "text/plain": [
       "array([1., 1., 1., 1., 1., 1., 1., 1., 1., 1., 1., 1., 1., 1., 1., 1., 1.,\n",
       "       1., 1., 1.])"
      ]
     },
     "execution_count": 143,
     "metadata": {},
     "output_type": "execute_result"
    }
   ],
   "source": [
    " np.ones(20)"
   ]
  },
  {
   "cell_type": "markdown",
   "id": "6ef6f431",
   "metadata": {},
   "source": [
    "##### Make a array by 30 random numbers between 1,2"
   ]
  },
  {
   "cell_type": "code",
   "execution_count": 93,
   "id": "4630d15c",
   "metadata": {},
   "outputs": [
    {
     "name": "stdout",
     "output_type": "stream",
     "text": [
      "[1.         1.03448276 1.06896552 1.10344828 1.13793103 1.17241379\n",
      " 1.20689655 1.24137931 1.27586207 1.31034483 1.34482759 1.37931034\n",
      " 1.4137931  1.44827586 1.48275862 1.51724138 1.55172414 1.5862069\n",
      " 1.62068966 1.65517241 1.68965517 1.72413793 1.75862069 1.79310345\n",
      " 1.82758621 1.86206897 1.89655172 1.93103448 1.96551724 2.        ]\n"
     ]
    }
   ],
   "source": [
    "nptest = np.linspace(1,2,30)\n",
    "print(nptest)"
   ]
  },
  {
   "cell_type": "code",
   "execution_count": 107,
   "id": "c3538d78",
   "metadata": {},
   "outputs": [
    {
     "data": {
      "text/plain": [
       "numpy.ndarray"
      ]
     },
     "execution_count": 107,
     "metadata": {},
     "output_type": "execute_result"
    }
   ],
   "source": [
    "type(nptest)"
   ]
  },
  {
   "cell_type": "code",
   "execution_count": 108,
   "id": "e2255c24",
   "metadata": {},
   "outputs": [
    {
     "data": {
      "text/plain": [
       "dtype('float64')"
      ]
     },
     "execution_count": 108,
     "metadata": {},
     "output_type": "execute_result"
    }
   ],
   "source": [
    "nptest.dtype"
   ]
  },
  {
   "cell_type": "code",
   "execution_count": 109,
   "id": "18be5ae1",
   "metadata": {},
   "outputs": [
    {
     "data": {
      "text/plain": [
       "(30,)"
      ]
     },
     "execution_count": 109,
     "metadata": {},
     "output_type": "execute_result"
    }
   ],
   "source": [
    "nptest.shape"
   ]
  },
  {
   "cell_type": "markdown",
   "id": "9aa0cb1a",
   "metadata": {},
   "source": [
    "##### Reshape the nptest array"
   ]
  },
  {
   "cell_type": "code",
   "execution_count": 98,
   "id": "6f3cdafa",
   "metadata": {},
   "outputs": [
    {
     "data": {
      "text/plain": [
       "array([[1.        , 1.03448276, 1.06896552, 1.10344828, 1.13793103,\n",
       "        1.17241379],\n",
       "       [1.20689655, 1.24137931, 1.27586207, 1.31034483, 1.34482759,\n",
       "        1.37931034],\n",
       "       [1.4137931 , 1.44827586, 1.48275862, 1.51724138, 1.55172414,\n",
       "        1.5862069 ],\n",
       "       [1.62068966, 1.65517241, 1.68965517, 1.72413793, 1.75862069,\n",
       "        1.79310345],\n",
       "       [1.82758621, 1.86206897, 1.89655172, 1.93103448, 1.96551724,\n",
       "        2.        ]])"
      ]
     },
     "execution_count": 98,
     "metadata": {},
     "output_type": "execute_result"
    }
   ],
   "source": [
    "nptest.reshape(5,6)"
   ]
  },
  {
   "cell_type": "code",
   "execution_count": 100,
   "id": "47a831cb",
   "metadata": {},
   "outputs": [
    {
     "data": {
      "text/plain": [
       "2.0"
      ]
     },
     "execution_count": 100,
     "metadata": {},
     "output_type": "execute_result"
    }
   ],
   "source": [
    "nptest.max()"
   ]
  },
  {
   "cell_type": "code",
   "execution_count": 101,
   "id": "3bfb1a91",
   "metadata": {},
   "outputs": [
    {
     "data": {
      "text/plain": [
       "1.0"
      ]
     },
     "execution_count": 101,
     "metadata": {},
     "output_type": "execute_result"
    }
   ],
   "source": [
    "nptest.min()"
   ]
  },
  {
   "cell_type": "code",
   "execution_count": 102,
   "id": "0ca10e76",
   "metadata": {},
   "outputs": [
    {
     "data": {
      "text/plain": [
       "1.4999999999999996"
      ]
     },
     "execution_count": 102,
     "metadata": {},
     "output_type": "execute_result"
    }
   ],
   "source": [
    "nptest.mean()"
   ]
  },
  {
   "cell_type": "markdown",
   "id": "a1c0294e",
   "metadata": {},
   "source": [
    "##### To tell us which index includes the highet or lowest value"
   ]
  },
  {
   "cell_type": "code",
   "execution_count": 103,
   "id": "0e9a1f6b",
   "metadata": {},
   "outputs": [
    {
     "data": {
      "text/plain": [
       "29"
      ]
     },
     "execution_count": 103,
     "metadata": {},
     "output_type": "execute_result"
    }
   ],
   "source": [
    "nptest.argmax()"
   ]
  },
  {
   "cell_type": "code",
   "execution_count": 104,
   "id": "e08c87fb",
   "metadata": {},
   "outputs": [
    {
     "data": {
      "text/plain": [
       "0"
      ]
     },
     "execution_count": 104,
     "metadata": {},
     "output_type": "execute_result"
    }
   ],
   "source": [
    "nptest.argmin()"
   ]
  },
  {
   "cell_type": "markdown",
   "id": "836de111",
   "metadata": {},
   "source": [
    "## Matplotlib"
   ]
  },
  {
   "cell_type": "code",
   "execution_count": 110,
   "id": "8898d37c",
   "metadata": {},
   "outputs": [],
   "source": [
    "import matplotlib.pyplot as plt"
   ]
  },
  {
   "cell_type": "code",
   "execution_count": 123,
   "id": "09047a40",
   "metadata": {},
   "outputs": [],
   "source": [
    "num = np.linspace(0,1,40)\n",
    "num2 = num ** 2"
   ]
  },
  {
   "cell_type": "code",
   "execution_count": 161,
   "id": "b1f113f1",
   "metadata": {},
   "outputs": [
    {
     "data": {
      "text/plain": [
       "Text(0.5, 1.0, 'Square of Numbers')"
      ]
     },
     "execution_count": 161,
     "metadata": {},
     "output_type": "execute_result"
    },
    {
     "data": {
      "image/png": "[encoded data removed]",
      "text/plain": [
       "<Figure size 432x288 with 1 Axes>"
      ]
     },
     "metadata": {
      "needs_background": "light"
     },
     "output_type": "display_data"
    }
   ],
   "source": [
    "plt.plot(num, num2, \"b\",num2, num, \"r\", num, num2 ** 2, \"g--\", num, num2 ** 8, \"r*-\")\n",
    "plt.xlabel(\"Random numbers between 0 and 1(Float32)\")\n",
    "plt.ylabel(\"Square of x axis\")\n",
    "plt.title(\"Square of Numbers\")"
   ]
  },
  {
   "cell_type": "code",
   "execution_count": 144,
   "id": "1593d8e0",
   "metadata": {},
   "outputs": [],
   "source": [
    "i = [1,2,3,4,5,6,7,8,9,10]\n",
    "u = [10,9,8,7,6,5,4,3,2,1]"
   ]
  },
  {
   "cell_type": "code",
   "execution_count": 153,
   "id": "952e38c3",
   "metadata": {
    "scrolled": true
   },
   "outputs": [
    {
     "data": {
      "text/plain": [
       "Text(0.5, 1.0, 'Linear')"
      ]
     },
     "execution_count": 153,
     "metadata": {},
     "output_type": "execute_result"
    },
    {
     "data": {
      "image/png": "[encoded data removed]",
      "text/plain": [
       "<Figure size 432x288 with 2 Axes>"
      ]
     },
     "metadata": {
      "needs_background": "light"
     },
     "output_type": "display_data"
    }
   ],
   "source": [
    "plt.subplot(2,2,1)\n",
    "plt.plot(num,num2,\"r\")\n",
    "plt.title(\"Square\")\n",
    "plt.subplot(2,2,2)\n",
    "plt.plot(i,u,\"g*-\")\n",
    "plt.title(\"Linear\")"
   ]
  },
  {
   "cell_type": "markdown",
   "id": "b21a60e8",
   "metadata": {},
   "source": [
    "# WebScraping"
   ]
  },
  {
   "cell_type": "code",
   "execution_count": 157,
   "id": "b326e478",
   "metadata": {},
   "outputs": [],
   "source": [
    "import yfinance as yf\n",
    "import requests\n",
    "from bs4 import BeautifulSoup\n",
    "import plotly.graph_objects as go\n",
    "from plotly.subplots import make_subplots"
   ]
  },
  {
   "cell_type": "code",
   "execution_count": 162,
   "id": "f00fbb25",
   "metadata": {},
   "outputs": [],
   "source": [
    "tesla = yf.Ticker(\"TSLA\")"
   ]
  },
  {
   "cell_type": "code",
   "execution_count": 168,
   "id": "4ede7881",
   "metadata": {},
   "outputs": [
    {
     "data": {
      "text/html": [
       "<div>\n",
       "<style scoped>\n",
       "    .dataframe tbody tr th:only-of-type {\n",
       "        vertical-align: middle;\n",
       "    }\n",
       "\n",
       "    .dataframe tbody tr th {\n",
       "        vertical-align: top;\n",
       "    }\n",
       "\n",
       "    .dataframe thead th {\n",
       "        text-align: right;\n",
       "    }\n",
       "</style>\n",
       "<table border=\"1\" class=\"dataframe\">\n",
       "  <thead>\n",
       "    <tr style=\"text-align: right;\">\n",
       "      <th></th>\n",
       "      <th>Open</th>\n",
       "      <th>High</th>\n",
       "      <th>Low</th>\n",
       "      <th>Close</th>\n",
       "      <th>Volume</th>\n",
       "      <th>Dividends</th>\n",
       "      <th>Stock Splits</th>\n",
       "    </tr>\n",
       "    <tr>\n",
       "      <th>Date</th>\n",
       "      <th></th>\n",
       "      <th></th>\n",
       "      <th></th>\n",
       "      <th></th>\n",
       "      <th></th>\n",
       "      <th></th>\n",
       "      <th></th>\n",
       "    </tr>\n",
       "  </thead>\n",
       "  <tbody>\n",
       "    <tr>\n",
       "      <th>2010-06-29</th>\n",
       "      <td>3.800000</td>\n",
       "      <td>5.000000</td>\n",
       "      <td>3.508000</td>\n",
       "      <td>4.778000</td>\n",
       "      <td>93831500</td>\n",
       "      <td>0</td>\n",
       "      <td>0.0</td>\n",
       "    </tr>\n",
       "    <tr>\n",
       "      <th>2010-06-30</th>\n",
       "      <td>5.158000</td>\n",
       "      <td>6.084000</td>\n",
       "      <td>4.660000</td>\n",
       "      <td>4.766000</td>\n",
       "      <td>85935500</td>\n",
       "      <td>0</td>\n",
       "      <td>0.0</td>\n",
       "    </tr>\n",
       "    <tr>\n",
       "      <th>2010-07-01</th>\n",
       "      <td>5.000000</td>\n",
       "      <td>5.184000</td>\n",
       "      <td>4.054000</td>\n",
       "      <td>4.392000</td>\n",
       "      <td>41094000</td>\n",
       "      <td>0</td>\n",
       "      <td>0.0</td>\n",
       "    </tr>\n",
       "    <tr>\n",
       "      <th>2010-07-02</th>\n",
       "      <td>4.600000</td>\n",
       "      <td>4.620000</td>\n",
       "      <td>3.742000</td>\n",
       "      <td>3.840000</td>\n",
       "      <td>25699000</td>\n",
       "      <td>0</td>\n",
       "      <td>0.0</td>\n",
       "    </tr>\n",
       "    <tr>\n",
       "      <th>2010-07-06</th>\n",
       "      <td>4.000000</td>\n",
       "      <td>4.000000</td>\n",
       "      <td>3.166000</td>\n",
       "      <td>3.222000</td>\n",
       "      <td>34334500</td>\n",
       "      <td>0</td>\n",
       "      <td>0.0</td>\n",
       "    </tr>\n",
       "    <tr>\n",
       "      <th>...</th>\n",
       "      <td>...</td>\n",
       "      <td>...</td>\n",
       "      <td>...</td>\n",
       "      <td>...</td>\n",
       "      <td>...</td>\n",
       "      <td>...</td>\n",
       "      <td>...</td>\n",
       "    </tr>\n",
       "    <tr>\n",
       "      <th>2022-07-21</th>\n",
       "      <td>765.320007</td>\n",
       "      <td>819.799988</td>\n",
       "      <td>764.599976</td>\n",
       "      <td>815.119995</td>\n",
       "      <td>47344100</td>\n",
       "      <td>0</td>\n",
       "      <td>0.0</td>\n",
       "    </tr>\n",
       "    <tr>\n",
       "      <th>2022-07-22</th>\n",
       "      <td>828.659973</td>\n",
       "      <td>842.359985</td>\n",
       "      <td>812.140015</td>\n",
       "      <td>816.729980</td>\n",
       "      <td>34421200</td>\n",
       "      <td>0</td>\n",
       "      <td>0.0</td>\n",
       "    </tr>\n",
       "    <tr>\n",
       "      <th>2022-07-25</th>\n",
       "      <td>816.650024</td>\n",
       "      <td>822.440002</td>\n",
       "      <td>802.200012</td>\n",
       "      <td>805.299988</td>\n",
       "      <td>21357800</td>\n",
       "      <td>0</td>\n",
       "      <td>0.0</td>\n",
       "    </tr>\n",
       "    <tr>\n",
       "      <th>2022-07-26</th>\n",
       "      <td>799.539978</td>\n",
       "      <td>801.929993</td>\n",
       "      <td>768.789978</td>\n",
       "      <td>776.580017</td>\n",
       "      <td>22273600</td>\n",
       "      <td>0</td>\n",
       "      <td>0.0</td>\n",
       "    </tr>\n",
       "    <tr>\n",
       "      <th>2022-07-27</th>\n",
       "      <td>791.429993</td>\n",
       "      <td>827.780029</td>\n",
       "      <td>785.369995</td>\n",
       "      <td>824.460022</td>\n",
       "      <td>29286500</td>\n",
       "      <td>0</td>\n",
       "      <td>0.0</td>\n",
       "    </tr>\n",
       "  </tbody>\n",
       "</table>\n",
       "<p>3041 rows × 7 columns</p>\n",
       "</div>"
      ],
      "text/plain": [
       "                  Open        High         Low       Close    Volume  \\\n",
       "Date                                                                   \n",
       "2010-06-29    3.800000    5.000000    3.508000    4.778000  93831500   \n",
       "2010-06-30    5.158000    6.084000    4.660000    4.766000  85935500   \n",
       "2010-07-01    5.000000    5.184000    4.054000    4.392000  41094000   \n",
       "2010-07-02    4.600000    4.620000    3.742000    3.840000  25699000   \n",
       "2010-07-06    4.000000    4.000000    3.166000    3.222000  34334500   \n",
       "...                ...         ...         ...         ...       ...   \n",
       "2022-07-21  765.320007  819.799988  764.599976  815.119995  47344100   \n",
       "2022-07-22  828.659973  842.359985  812.140015  816.729980  34421200   \n",
       "2022-07-25  816.650024  822.440002  802.200012  805.299988  21357800   \n",
       "2022-07-26  799.539978  801.929993  768.789978  776.580017  22273600   \n",
       "2022-07-27  791.429993  827.780029  785.369995  824.460022  29286500   \n",
       "\n",
       "            Dividends  Stock Splits  \n",
       "Date                                 \n",
       "2010-06-29          0           0.0  \n",
       "2010-06-30          0           0.0  \n",
       "2010-07-01          0           0.0  \n",
       "2010-07-02          0           0.0  \n",
       "2010-07-06          0           0.0  \n",
       "...               ...           ...  \n",
       "2022-07-21          0           0.0  \n",
       "2022-07-22          0           0.0  \n",
       "2022-07-25          0           0.0  \n",
       "2022-07-26          0           0.0  \n",
       "2022-07-27          0           0.0  \n",
       "\n",
       "[3041 rows x 7 columns]"
      ]
     },
     "execution_count": 168,
     "metadata": {},
     "output_type": "execute_result"
    }
   ],
   "source": [
    "tesla_data = tesla.history(period = \"max\")\n",
    "tesla_data"
   ]
  },
  {
   "cell_type": "code",
   "execution_count": 171,
   "id": "a64dbae3",
   "metadata": {},
   "outputs": [
    {
     "data": {
      "text/html": [
       "<div>\n",
       "<style scoped>\n",
       "    .dataframe tbody tr th:only-of-type {\n",
       "        vertical-align: middle;\n",
       "    }\n",
       "\n",
       "    .dataframe tbody tr th {\n",
       "        vertical-align: top;\n",
       "    }\n",
       "\n",
       "    .dataframe thead th {\n",
       "        text-align: right;\n",
       "    }\n",
       "</style>\n",
       "<table border=\"1\" class=\"dataframe\">\n",
       "  <thead>\n",
       "    <tr style=\"text-align: right;\">\n",
       "      <th></th>\n",
       "      <th>Open</th>\n",
       "      <th>High</th>\n",
       "      <th>Low</th>\n",
       "      <th>Close</th>\n",
       "      <th>Volume</th>\n",
       "      <th>Dividends</th>\n",
       "      <th>Stock Splits</th>\n",
       "    </tr>\n",
       "    <tr>\n",
       "      <th>Date</th>\n",
       "      <th></th>\n",
       "      <th></th>\n",
       "      <th></th>\n",
       "      <th></th>\n",
       "      <th></th>\n",
       "      <th></th>\n",
       "      <th></th>\n",
       "    </tr>\n",
       "  </thead>\n",
       "  <tbody>\n",
       "    <tr>\n",
       "      <th>2010-06-29</th>\n",
       "      <td>3.800000</td>\n",
       "      <td>5.000000</td>\n",
       "      <td>3.508000</td>\n",
       "      <td>4.778000</td>\n",
       "      <td>93831500</td>\n",
       "      <td>0</td>\n",
       "      <td>0.0</td>\n",
       "    </tr>\n",
       "    <tr>\n",
       "      <th>2010-06-30</th>\n",
       "      <td>5.158000</td>\n",
       "      <td>6.084000</td>\n",
       "      <td>4.660000</td>\n",
       "      <td>4.766000</td>\n",
       "      <td>85935500</td>\n",
       "      <td>0</td>\n",
       "      <td>0.0</td>\n",
       "    </tr>\n",
       "    <tr>\n",
       "      <th>2010-07-01</th>\n",
       "      <td>5.000000</td>\n",
       "      <td>5.184000</td>\n",
       "      <td>4.054000</td>\n",
       "      <td>4.392000</td>\n",
       "      <td>41094000</td>\n",
       "      <td>0</td>\n",
       "      <td>0.0</td>\n",
       "    </tr>\n",
       "    <tr>\n",
       "      <th>2010-07-02</th>\n",
       "      <td>4.600000</td>\n",
       "      <td>4.620000</td>\n",
       "      <td>3.742000</td>\n",
       "      <td>3.840000</td>\n",
       "      <td>25699000</td>\n",
       "      <td>0</td>\n",
       "      <td>0.0</td>\n",
       "    </tr>\n",
       "    <tr>\n",
       "      <th>2010-07-06</th>\n",
       "      <td>4.000000</td>\n",
       "      <td>4.000000</td>\n",
       "      <td>3.166000</td>\n",
       "      <td>3.222000</td>\n",
       "      <td>34334500</td>\n",
       "      <td>0</td>\n",
       "      <td>0.0</td>\n",
       "    </tr>\n",
       "    <tr>\n",
       "      <th>...</th>\n",
       "      <td>...</td>\n",
       "      <td>...</td>\n",
       "      <td>...</td>\n",
       "      <td>...</td>\n",
       "      <td>...</td>\n",
       "      <td>...</td>\n",
       "      <td>...</td>\n",
       "    </tr>\n",
       "    <tr>\n",
       "      <th>2022-07-21</th>\n",
       "      <td>765.320007</td>\n",
       "      <td>819.799988</td>\n",
       "      <td>764.599976</td>\n",
       "      <td>815.119995</td>\n",
       "      <td>47344100</td>\n",
       "      <td>0</td>\n",
       "      <td>0.0</td>\n",
       "    </tr>\n",
       "    <tr>\n",
       "      <th>2022-07-22</th>\n",
       "      <td>828.659973</td>\n",
       "      <td>842.359985</td>\n",
       "      <td>812.140015</td>\n",
       "      <td>816.729980</td>\n",
       "      <td>34421200</td>\n",
       "      <td>0</td>\n",
       "      <td>0.0</td>\n",
       "    </tr>\n",
       "    <tr>\n",
       "      <th>2022-07-25</th>\n",
       "      <td>816.650024</td>\n",
       "      <td>822.440002</td>\n",
       "      <td>802.200012</td>\n",
       "      <td>805.299988</td>\n",
       "      <td>21357800</td>\n",
       "      <td>0</td>\n",
       "      <td>0.0</td>\n",
       "    </tr>\n",
       "    <tr>\n",
       "      <th>2022-07-26</th>\n",
       "      <td>799.539978</td>\n",
       "      <td>801.929993</td>\n",
       "      <td>768.789978</td>\n",
       "      <td>776.580017</td>\n",
       "      <td>22273600</td>\n",
       "      <td>0</td>\n",
       "      <td>0.0</td>\n",
       "    </tr>\n",
       "    <tr>\n",
       "      <th>2022-07-27</th>\n",
       "      <td>791.429993</td>\n",
       "      <td>827.780029</td>\n",
       "      <td>785.369995</td>\n",
       "      <td>824.460022</td>\n",
       "      <td>29286500</td>\n",
       "      <td>0</td>\n",
       "      <td>0.0</td>\n",
       "    </tr>\n",
       "  </tbody>\n",
       "</table>\n",
       "<p>3041 rows × 7 columns</p>\n",
       "</div>"
      ],
      "text/plain": [
       "                  Open        High         Low       Close    Volume  \\\n",
       "Date                                                                   \n",
       "2010-06-29    3.800000    5.000000    3.508000    4.778000  93831500   \n",
       "2010-06-30    5.158000    6.084000    4.660000    4.766000  85935500   \n",
       "2010-07-01    5.000000    5.184000    4.054000    4.392000  41094000   \n",
       "2010-07-02    4.600000    4.620000    3.742000    3.840000  25699000   \n",
       "2010-07-06    4.000000    4.000000    3.166000    3.222000  34334500   \n",
       "...                ...         ...         ...         ...       ...   \n",
       "2022-07-21  765.320007  819.799988  764.599976  815.119995  47344100   \n",
       "2022-07-22  828.659973  842.359985  812.140015  816.729980  34421200   \n",
       "2022-07-25  816.650024  822.440002  802.200012  805.299988  21357800   \n",
       "2022-07-26  799.539978  801.929993  768.789978  776.580017  22273600   \n",
       "2022-07-27  791.429993  827.780029  785.369995  824.460022  29286500   \n",
       "\n",
       "            Dividends  Stock Splits  \n",
       "Date                                 \n",
       "2010-06-29          0           0.0  \n",
       "2010-06-30          0           0.0  \n",
       "2010-07-01          0           0.0  \n",
       "2010-07-02          0           0.0  \n",
       "2010-07-06          0           0.0  \n",
       "...               ...           ...  \n",
       "2022-07-21          0           0.0  \n",
       "2022-07-22          0           0.0  \n",
       "2022-07-25          0           0.0  \n",
       "2022-07-26          0           0.0  \n",
       "2022-07-27          0           0.0  \n",
       "\n",
       "[3041 rows x 7 columns]"
      ]
     },
     "execution_count": 171,
     "metadata": {},
     "output_type": "execute_result"
    }
   ],
   "source": [
    "tesla_data1mo = tesla.history(period = \"1mo\")\n",
    "tesla_data"
   ]
  },
  {
   "cell_type": "code",
   "execution_count": 172,
   "id": "0276deba",
   "metadata": {},
   "outputs": [
    {
     "data": {
      "text/html": [
       "<div>\n",
       "<style scoped>\n",
       "    .dataframe tbody tr th:only-of-type {\n",
       "        vertical-align: middle;\n",
       "    }\n",
       "\n",
       "    .dataframe tbody tr th {\n",
       "        vertical-align: top;\n",
       "    }\n",
       "\n",
       "    .dataframe thead th {\n",
       "        text-align: right;\n",
       "    }\n",
       "</style>\n",
       "<table border=\"1\" class=\"dataframe\">\n",
       "  <thead>\n",
       "    <tr style=\"text-align: right;\">\n",
       "      <th></th>\n",
       "      <th>Open</th>\n",
       "      <th>High</th>\n",
       "      <th>Low</th>\n",
       "      <th>Close</th>\n",
       "      <th>Volume</th>\n",
       "      <th>Dividends</th>\n",
       "      <th>Stock Splits</th>\n",
       "    </tr>\n",
       "    <tr>\n",
       "      <th>Date</th>\n",
       "      <th></th>\n",
       "      <th></th>\n",
       "      <th></th>\n",
       "      <th></th>\n",
       "      <th></th>\n",
       "      <th></th>\n",
       "      <th></th>\n",
       "    </tr>\n",
       "  </thead>\n",
       "  <tbody>\n",
       "    <tr>\n",
       "      <th>2010-06-29</th>\n",
       "      <td>3.800</td>\n",
       "      <td>5.000</td>\n",
       "      <td>3.508</td>\n",
       "      <td>4.778</td>\n",
       "      <td>93831500</td>\n",
       "      <td>0</td>\n",
       "      <td>0.0</td>\n",
       "    </tr>\n",
       "    <tr>\n",
       "      <th>2010-06-30</th>\n",
       "      <td>5.158</td>\n",
       "      <td>6.084</td>\n",
       "      <td>4.660</td>\n",
       "      <td>4.766</td>\n",
       "      <td>85935500</td>\n",
       "      <td>0</td>\n",
       "      <td>0.0</td>\n",
       "    </tr>\n",
       "    <tr>\n",
       "      <th>2010-07-01</th>\n",
       "      <td>5.000</td>\n",
       "      <td>5.184</td>\n",
       "      <td>4.054</td>\n",
       "      <td>4.392</td>\n",
       "      <td>41094000</td>\n",
       "      <td>0</td>\n",
       "      <td>0.0</td>\n",
       "    </tr>\n",
       "    <tr>\n",
       "      <th>2010-07-02</th>\n",
       "      <td>4.600</td>\n",
       "      <td>4.620</td>\n",
       "      <td>3.742</td>\n",
       "      <td>3.840</td>\n",
       "      <td>25699000</td>\n",
       "      <td>0</td>\n",
       "      <td>0.0</td>\n",
       "    </tr>\n",
       "    <tr>\n",
       "      <th>2010-07-06</th>\n",
       "      <td>4.000</td>\n",
       "      <td>4.000</td>\n",
       "      <td>3.166</td>\n",
       "      <td>3.222</td>\n",
       "      <td>34334500</td>\n",
       "      <td>0</td>\n",
       "      <td>0.0</td>\n",
       "    </tr>\n",
       "  </tbody>\n",
       "</table>\n",
       "</div>"
      ],
      "text/plain": [
       "             Open   High    Low  Close    Volume  Dividends  Stock Splits\n",
       "Date                                                                     \n",
       "2010-06-29  3.800  5.000  3.508  4.778  93831500          0           0.0\n",
       "2010-06-30  5.158  6.084  4.660  4.766  85935500          0           0.0\n",
       "2010-07-01  5.000  5.184  4.054  4.392  41094000          0           0.0\n",
       "2010-07-02  4.600  4.620  3.742  3.840  25699000          0           0.0\n",
       "2010-07-06  4.000  4.000  3.166  3.222  34334500          0           0.0"
      ]
     },
     "execution_count": 172,
     "metadata": {},
     "output_type": "execute_result"
    }
   ],
   "source": [
    "tesla_data1mo.reset_index(inplace=True)\n",
    "tesla_data.head(5)"
   ]
  },
  {
   "cell_type": "code",
   "execution_count": null,
   "id": "7a6f7900",
   "metadata": {},
   "outputs": [],
   "source": []
  }
 ],
 "metadata": {
  "kernelspec": {
   "display_name": "Python 3 (ipykernel)",
   "language": "python",
   "name": "python3"
  },
  "language_info": {
   "codemirror_mode": {
    "name": "ipython",
    "version": 3
   },
   "file_extension": ".py",
   "mimetype": "text/x-python",
   "name": "python",
   "nbconvert_exporter": "python",
   "pygments_lexer": "ipython3",
   "version": "3.10.5"
  }
 },
 "nbformat": 4,
 "nbformat_minor": 5
}
